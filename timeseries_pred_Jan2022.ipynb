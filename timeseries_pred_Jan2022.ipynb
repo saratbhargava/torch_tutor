{
 "cells": [
  {
   "cell_type": "markdown",
   "id": "16d98e92-b326-4e42-8095-4167914b87bd",
   "metadata": {},
   "source": [
    "## Imports"
   ]
  },
  {
   "cell_type": "code",
   "execution_count": 1,
   "id": "ee08d35f-8981-42b0-a07e-e4f6725a8a02",
   "metadata": {},
   "outputs": [],
   "source": [
    "from IPython.display import display"
   ]
  },
  {
   "cell_type": "code",
   "execution_count": 294,
   "id": "3028b6e0-ed29-4dd7-91d9-0864729fc00b",
   "metadata": {},
   "outputs": [],
   "source": [
    "from sklearn import metrics\n",
    "from sklearn.model_selection import TimeSeriesSplit, cross_val_score\n",
    "from sklearn.preprocessing import LabelEncoder, OneHotEncoder\n",
    "from sklearn.compose import make_column_transformer\n",
    "from sklearn.pipeline import make_pipeline, Pipeline"
   ]
  },
  {
   "cell_type": "code",
   "execution_count": 298,
   "id": "6437872f-6950-41ff-9dae-51c26c83998c",
   "metadata": {},
   "outputs": [],
   "source": [
    "import torch\n",
    "from torch.utils.tensorboard import SummaryWriter"
   ]
  },
  {
   "cell_type": "code",
   "execution_count": 295,
   "id": "1128d29e-246d-4590-9ac4-0f6e79a48086",
   "metadata": {},
   "outputs": [],
   "source": [
    "from skorch import NeuralNetRegressor\n",
    "from skorch.callbacks import WandbLogger, TensorBoard, Checkpoint, EarlyStopping"
   ]
  },
  {
   "cell_type": "code",
   "execution_count": 20,
   "id": "2469b22c-ada1-4654-afc3-a0b77267ed57",
   "metadata": {},
   "outputs": [],
   "source": [
    "import rtdl"
   ]
  },
  {
   "cell_type": "code",
   "execution_count": 228,
   "id": "35cdcc49-4a6a-4aca-82ef-c33c26333080",
   "metadata": {},
   "outputs": [],
   "source": [
    "import numpy as np\n",
    "import pandas as pd\n",
    "import matplotlib.pyplot as plt\n",
    "import seaborn as sns\n",
    "# change the defaults\n",
    "sns.set()"
   ]
  },
  {
   "cell_type": "code",
   "execution_count": 290,
   "id": "6e581f9b-eeae-4598-af2f-c47490ad3905",
   "metadata": {},
   "outputs": [],
   "source": [
    "import tensorwatch as tw"
   ]
  },
  {
   "cell_type": "markdown",
   "id": "a60b952d-652e-42ca-a206-208c3b818fbd",
   "metadata": {},
   "source": [
    "## Read data and visualization"
   ]
  },
  {
   "cell_type": "code",
   "execution_count": 219,
   "id": "8c48289f-00b5-4fca-aa63-41c65be996e7",
   "metadata": {},
   "outputs": [],
   "source": [
    "train_data = pd.read_csv(\"input/tabular-playground-series-jan2022/train.csv\")\n",
    "test_data = pd.read_csv(\"input/tabular-playground-series-jan2022/test.csv\")"
   ]
  },
  {
   "cell_type": "code",
   "execution_count": 220,
   "id": "62f66d0a-e503-49ec-bf1e-5a6e601fecc4",
   "metadata": {},
   "outputs": [
    {
     "data": {
      "text/html": [
       "<div>\n",
       "<style scoped>\n",
       "    .dataframe tbody tr th:only-of-type {\n",
       "        vertical-align: middle;\n",
       "    }\n",
       "\n",
       "    .dataframe tbody tr th {\n",
       "        vertical-align: top;\n",
       "    }\n",
       "\n",
       "    .dataframe thead th {\n",
       "        text-align: right;\n",
       "    }\n",
       "</style>\n",
       "<table border=\"1\" class=\"dataframe\">\n",
       "  <thead>\n",
       "    <tr style=\"text-align: right;\">\n",
       "      <th></th>\n",
       "      <th>row_id</th>\n",
       "      <th>date</th>\n",
       "      <th>country</th>\n",
       "      <th>store</th>\n",
       "      <th>product</th>\n",
       "      <th>num_sold</th>\n",
       "    </tr>\n",
       "  </thead>\n",
       "  <tbody>\n",
       "    <tr>\n",
       "      <th>0</th>\n",
       "      <td>0</td>\n",
       "      <td>2015-01-01</td>\n",
       "      <td>Finland</td>\n",
       "      <td>KaggleMart</td>\n",
       "      <td>Kaggle Mug</td>\n",
       "      <td>329</td>\n",
       "    </tr>\n",
       "    <tr>\n",
       "      <th>1</th>\n",
       "      <td>1</td>\n",
       "      <td>2015-01-01</td>\n",
       "      <td>Finland</td>\n",
       "      <td>KaggleMart</td>\n",
       "      <td>Kaggle Hat</td>\n",
       "      <td>520</td>\n",
       "    </tr>\n",
       "    <tr>\n",
       "      <th>2</th>\n",
       "      <td>2</td>\n",
       "      <td>2015-01-01</td>\n",
       "      <td>Finland</td>\n",
       "      <td>KaggleMart</td>\n",
       "      <td>Kaggle Sticker</td>\n",
       "      <td>146</td>\n",
       "    </tr>\n",
       "    <tr>\n",
       "      <th>3</th>\n",
       "      <td>3</td>\n",
       "      <td>2015-01-01</td>\n",
       "      <td>Finland</td>\n",
       "      <td>KaggleRama</td>\n",
       "      <td>Kaggle Mug</td>\n",
       "      <td>572</td>\n",
       "    </tr>\n",
       "    <tr>\n",
       "      <th>4</th>\n",
       "      <td>4</td>\n",
       "      <td>2015-01-01</td>\n",
       "      <td>Finland</td>\n",
       "      <td>KaggleRama</td>\n",
       "      <td>Kaggle Hat</td>\n",
       "      <td>911</td>\n",
       "    </tr>\n",
       "  </tbody>\n",
       "</table>\n",
       "</div>"
      ],
      "text/plain": [
       "   row_id        date  country       store         product  num_sold\n",
       "0       0  2015-01-01  Finland  KaggleMart      Kaggle Mug       329\n",
       "1       1  2015-01-01  Finland  KaggleMart      Kaggle Hat       520\n",
       "2       2  2015-01-01  Finland  KaggleMart  Kaggle Sticker       146\n",
       "3       3  2015-01-01  Finland  KaggleRama      Kaggle Mug       572\n",
       "4       4  2015-01-01  Finland  KaggleRama      Kaggle Hat       911"
      ]
     },
     "execution_count": 220,
     "metadata": {},
     "output_type": "execute_result"
    }
   ],
   "source": [
    "train_data.head()"
   ]
  },
  {
   "cell_type": "code",
   "execution_count": 232,
   "id": "fc8df98d-9d96-4369-868f-5e0e65a869c1",
   "metadata": {},
   "outputs": [
    {
     "data": {
      "text/html": [
       "<div>\n",
       "<style scoped>\n",
       "    .dataframe tbody tr th:only-of-type {\n",
       "        vertical-align: middle;\n",
       "    }\n",
       "\n",
       "    .dataframe tbody tr th {\n",
       "        vertical-align: top;\n",
       "    }\n",
       "\n",
       "    .dataframe thead th {\n",
       "        text-align: right;\n",
       "    }\n",
       "</style>\n",
       "<table border=\"1\" class=\"dataframe\">\n",
       "  <thead>\n",
       "    <tr style=\"text-align: right;\">\n",
       "      <th></th>\n",
       "      <th>row_id</th>\n",
       "      <th>date</th>\n",
       "      <th>country</th>\n",
       "      <th>store</th>\n",
       "      <th>product</th>\n",
       "      <th>num_sold</th>\n",
       "    </tr>\n",
       "  </thead>\n",
       "  <tbody>\n",
       "    <tr>\n",
       "      <th>15</th>\n",
       "      <td>15</td>\n",
       "      <td>2015-01-01</td>\n",
       "      <td>Sweden</td>\n",
       "      <td>KaggleRama</td>\n",
       "      <td>Kaggle Mug</td>\n",
       "      <td>706</td>\n",
       "    </tr>\n",
       "    <tr>\n",
       "      <th>33</th>\n",
       "      <td>33</td>\n",
       "      <td>2015-01-02</td>\n",
       "      <td>Sweden</td>\n",
       "      <td>KaggleRama</td>\n",
       "      <td>Kaggle Mug</td>\n",
       "      <td>653</td>\n",
       "    </tr>\n",
       "    <tr>\n",
       "      <th>51</th>\n",
       "      <td>51</td>\n",
       "      <td>2015-01-03</td>\n",
       "      <td>Sweden</td>\n",
       "      <td>KaggleRama</td>\n",
       "      <td>Kaggle Mug</td>\n",
       "      <td>734</td>\n",
       "    </tr>\n",
       "    <tr>\n",
       "      <th>69</th>\n",
       "      <td>69</td>\n",
       "      <td>2015-01-04</td>\n",
       "      <td>Sweden</td>\n",
       "      <td>KaggleRama</td>\n",
       "      <td>Kaggle Mug</td>\n",
       "      <td>657</td>\n",
       "    </tr>\n",
       "    <tr>\n",
       "      <th>87</th>\n",
       "      <td>87</td>\n",
       "      <td>2015-01-05</td>\n",
       "      <td>Sweden</td>\n",
       "      <td>KaggleRama</td>\n",
       "      <td>Kaggle Mug</td>\n",
       "      <td>512</td>\n",
       "    </tr>\n",
       "    <tr>\n",
       "      <th>105</th>\n",
       "      <td>105</td>\n",
       "      <td>2015-01-06</td>\n",
       "      <td>Sweden</td>\n",
       "      <td>KaggleRama</td>\n",
       "      <td>Kaggle Mug</td>\n",
       "      <td>471</td>\n",
       "    </tr>\n",
       "    <tr>\n",
       "      <th>123</th>\n",
       "      <td>123</td>\n",
       "      <td>2015-01-07</td>\n",
       "      <td>Sweden</td>\n",
       "      <td>KaggleRama</td>\n",
       "      <td>Kaggle Mug</td>\n",
       "      <td>442</td>\n",
       "    </tr>\n",
       "    <tr>\n",
       "      <th>141</th>\n",
       "      <td>141</td>\n",
       "      <td>2015-01-08</td>\n",
       "      <td>Sweden</td>\n",
       "      <td>KaggleRama</td>\n",
       "      <td>Kaggle Mug</td>\n",
       "      <td>493</td>\n",
       "    </tr>\n",
       "    <tr>\n",
       "      <th>159</th>\n",
       "      <td>159</td>\n",
       "      <td>2015-01-09</td>\n",
       "      <td>Sweden</td>\n",
       "      <td>KaggleRama</td>\n",
       "      <td>Kaggle Mug</td>\n",
       "      <td>479</td>\n",
       "    </tr>\n",
       "    <tr>\n",
       "      <th>177</th>\n",
       "      <td>177</td>\n",
       "      <td>2015-01-10</td>\n",
       "      <td>Sweden</td>\n",
       "      <td>KaggleRama</td>\n",
       "      <td>Kaggle Mug</td>\n",
       "      <td>536</td>\n",
       "    </tr>\n",
       "  </tbody>\n",
       "</table>\n",
       "</div>"
      ],
      "text/plain": [
       "     row_id        date country       store     product  num_sold\n",
       "15       15  2015-01-01  Sweden  KaggleRama  Kaggle Mug       706\n",
       "33       33  2015-01-02  Sweden  KaggleRama  Kaggle Mug       653\n",
       "51       51  2015-01-03  Sweden  KaggleRama  Kaggle Mug       734\n",
       "69       69  2015-01-04  Sweden  KaggleRama  Kaggle Mug       657\n",
       "87       87  2015-01-05  Sweden  KaggleRama  Kaggle Mug       512\n",
       "105     105  2015-01-06  Sweden  KaggleRama  Kaggle Mug       471\n",
       "123     123  2015-01-07  Sweden  KaggleRama  Kaggle Mug       442\n",
       "141     141  2015-01-08  Sweden  KaggleRama  Kaggle Mug       493\n",
       "159     159  2015-01-09  Sweden  KaggleRama  Kaggle Mug       479\n",
       "177     177  2015-01-10  Sweden  KaggleRama  Kaggle Mug       536"
      ]
     },
     "metadata": {},
     "output_type": "display_data"
    },
    {
     "data": {
      "text/plain": [
       "<AxesSubplot:title={'center':'Sales for Kaggle Mug from KaggleRama, Sweden.'}, xlabel='date', ylabel='num_sold'>"
      ]
     },
     "execution_count": 232,
     "metadata": {},
     "output_type": "execute_result"
    },
    {
     "data": {
      "image/png": "[encoded data removed]",
      "text/plain": [
       "<Figure size 720x360 with 1 Axes>"
      ]
     },
     "metadata": {},
     "output_type": "display_data"
    }
   ],
   "source": [
    "store_name = \"KaggleRama\"\n",
    "country_name = \"Sweden\"\n",
    "product_name = \"Kaggle Mug\"\n",
    "\n",
    "train_data_subselect = train_data[\n",
    "    (train_data['store'] == store_name) & (train_data['country'] == country_name) & (train_data['product'] == product_name)]\n",
    "display(train_data_subselect.head(10))\n",
    "train_data_subselect.plot(x='date', y='num_sold', ylabel='num_sold', figsize=(10, 5), title=f\"Sales for {product_name} from {store_name}, {country_name}.\")"
   ]
  },
  {
   "cell_type": "markdown",
   "id": "2b0ff558-e7a3-46f0-9f4f-3ca2fd51392e",
   "metadata": {},
   "source": [
    "## Agenda\n",
    "\n",
    "- Create X_train (feature vectors) and y_train\n",
    "\n",
    "- Create the timesplit K-folds, let us start with K=4\n",
    "\n",
    "- Wrap the regression model with skorch regressor class\n",
    "\n",
    "- Train the model and tune the hyper params easily\n",
    "\n",
    "- Method to predict the whole 1 year on test data after training"
   ]
  },
  {
   "cell_type": "markdown",
   "id": "d8218541-282a-4ab7-b4ed-439babae0fd8",
   "metadata": {},
   "source": [
    "### Create X_train and y_train\n",
    "\n",
    "Feature vectors are the previous 7 days of sales, their diffs, average of 7 days, std of 7 days"
   ]
  },
  {
   "cell_type": "code",
   "execution_count": 169,
   "id": "5f08c8da-0aa2-4119-9df0-d4e10b86e31d",
   "metadata": {},
   "outputs": [],
   "source": [
    "def create_features(train_data):\n",
    "    store_names = train_data.store.unique()\n",
    "    country_names = train_data.country.unique()\n",
    "    product_names = train_data['product'].unique()\n",
    "    N = 7\n",
    "    cat_features = ['store', 'country', 'product']\n",
    "    features_list = []\n",
    "    for store_name in store_names:\n",
    "        for country_name in country_names:\n",
    "            for product_name in product_names:\n",
    "                train_data_subselect = train_data[\n",
    "                            (train_data['store'] == store_name) & \n",
    "                            (train_data['country'] == country_name) & \n",
    "                            (train_data['product'] == product_name)]\n",
    "                features = create_features_timeseries(train_data_subselect['num_sold'], N=7)\n",
    "                features.loc[:, 'num_sold'] = np.asarray(train_data_subselect['num_sold'])[N:]\n",
    "                features.loc[:, 'store'] = store_name\n",
    "                features.loc[:, 'country'] = country_name\n",
    "                features.loc[:, 'product'] = product_name\n",
    "                features_list.append(features)\n",
    "    return pd.concat(features_list, axis=0)"
   ]
  },
  {
   "cell_type": "code",
   "execution_count": 120,
   "id": "05039afe-fda3-4540-b89a-67db30231d77",
   "metadata": {},
   "outputs": [],
   "source": [
    "def create_features_timeseries(train_data_sold, N=7, feature_prefix='num_sold'):\n",
    "    sales_prev = np.vstack([train_data_sold[k:-N+k] for k in range(N)]).T\n",
    "    sales_prev_names = [f'{feature_prefix}_p{N-k}' for k in range(N)]\n",
    "    sales_mean = np.mean(sales_prev, axis=1)\n",
    "    sales_mean_names = [f'{feature_prefix}_{N}_mean']\n",
    "    sales_diff = np.diff(sales_prev, axis=-1)\n",
    "    sales_diff_names = [f'{feature_prefix}_d{N-k-1}' for k in range(N-1)]\n",
    "    features = np.concatenate((sales_prev, sales_diff, sales_mean[:, np.newaxis]), axis=1)\n",
    "    features = pd.DataFrame(features, columns=sales_prev_names + sales_diff_names + sales_mean_names)\n",
    "    return features"
   ]
  },
  {
   "cell_type": "code",
   "execution_count": 317,
   "id": "3c7be236-f538-4ebe-b789-bac5b8bc7b02",
   "metadata": {},
   "outputs": [],
   "source": [
    "# Extract the features and labels from train_data\n",
    "train_features_labels = create_features(train_data)\n",
    "train_labels = train_features_labels[\"num_sold\"]\n",
    "train_features = train_features_labels.drop(\"num_sold\", axis=1)"
   ]
  },
  {
   "cell_type": "code",
   "execution_count": 247,
   "id": "9e47bea1-e8e2-4c51-95be-0724e8788eff",
   "metadata": {},
   "outputs": [],
   "source": [
    "ct_onehot = make_column_transformer(\n",
    "    (OneHotEncoder(), ['country', 'store', 'product']),\n",
    "    remainder='passthrough'\n",
    ")"
   ]
  },
  {
   "cell_type": "code",
   "execution_count": 266,
   "id": "d6783dd7-4e32-4738-9e23-f83d9621d1df",
   "metadata": {},
   "outputs": [],
   "source": [
    "d_in = 22 # Is there a way to avoid hard coding this?\n",
    "d_layers = [100, 100]\n",
    "dropout = 0.1\n",
    "d_out = 1"
   ]
  },
  {
   "cell_type": "code",
   "execution_count": 318,
   "id": "967f5d28-475a-44eb-887e-88a068445c39",
   "metadata": {},
   "outputs": [],
   "source": [
    "train_features_trans = ct_onehot.fit_transform(train_features).astype(np.float32)\n",
    "train_labels = train_labels.astype(np.float32).to_numpy().reshape(-1, 1)"
   ]
  },
  {
   "cell_type": "code",
   "execution_count": 302,
   "id": "6a90424d-86e1-4275-b883-0424838a48a2",
   "metadata": {},
   "outputs": [],
   "source": [
    "# Create tensorboard writer\n",
    "writer = SummaryWriter()\n",
    "\n",
    "mlp_2layer_callbacks = []\n",
    "mlp_2layer_callbacks.append(EarlyStopping())\n",
    "mlp_2layer_callbacks.append(Checkpoint())\n",
    "mlp_2layer_callbacks.append(TensorBoard(writer))"
   ]
  },
  {
   "cell_type": "code",
   "execution_count": 315,
   "id": "fd911f9b-89fd-4cf5-b409-9a3ec5cfd232",
   "metadata": {},
   "outputs": [
    {
     "data": {
      "text/plain": [
       "<class 'skorch.regressor.NeuralNetRegressor'>[initialized](\n",
       "  module_=MLP(\n",
       "    (blocks): Sequential(\n",
       "      (0): Block(\n",
       "        (linear): Linear(in_features=22, out_features=100, bias=True)\n",
       "        (activation): ReLU()\n",
       "        (dropout): Dropout(p=0.1, inplace=False)\n",
       "      )\n",
       "      (1): Block(\n",
       "        (linear): Linear(in_features=100, out_features=100, bias=True)\n",
       "        (activation): ReLU()\n",
       "        (dropout): Dropout(p=0.1, inplace=False)\n",
       "      )\n",
       "    )\n",
       "    (head): Linear(in_features=100, out_features=1, bias=True)\n",
       "  ),\n",
       ")"
      ]
     },
     "metadata": {},
     "output_type": "display_data"
    }
   ],
   "source": [
    "mlp_2layer_model = NeuralNetRegressor(\n",
    "    module=rtdl.MLP.make_baseline,\n",
    "    module__d_in=d_in,\n",
    "    module__d_layers=d_layers,\n",
    "    module__dropout=dropout,\n",
    "    module__d_out=d_out,\n",
    "    optimizer=torch.optim.Adam,\n",
    "    # optimizer__lr=1e-4,\n",
    "    callbacks=mlp_2layer_callbacks\n",
    ")\n",
    "mlp_2layer_model.initialize()\n",
    "display(mlp_2layer_model)"
   ]
  },
  {
   "cell_type": "code",
   "execution_count": 272,
   "id": "1e9f54ef-4696-44df-8e1f-ce8899f19f81",
   "metadata": {},
   "outputs": [],
   "source": [
    "# TODO: Get the pipeline working :)\n",
    "mlp2layer_pipe = Pipeline([\n",
    "    ('scale', ct_onehot),\n",
    "    ('net', mlp_2layer_model),\n",
    "])"
   ]
  },
  {
   "cell_type": "code",
   "execution_count": 280,
   "id": "4d1a2f19-87ae-45eb-a50f-08c6b97813ee",
   "metadata": {},
   "outputs": [
    {
     "data": {
      "text/plain": [
       "array([[36.386063],\n",
       "       [33.151398],\n",
       "       [30.609652],\n",
       "       ...,\n",
       "       [32.246727],\n",
       "       [43.03192 ],\n",
       "       [57.972626]], dtype=float32)"
      ]
     },
     "execution_count": 280,
     "metadata": {},
     "output_type": "execute_result"
    }
   ],
   "source": [
    "mlp_2layer_model.predict(train_features_trans)"
   ]
  },
  {
   "cell_type": "code",
   "execution_count": 316,
   "id": "f4e568e2-2ff9-42a2-8d90-b820c7844a68",
   "metadata": {},
   "outputs": [
    {
     "name": "stdout",
     "output_type": "stream",
     "text": [
      "Re-initializing module because the following parameters were re-set: d_in, d_layers, d_out, dropout.\n",
      "Re-initializing criterion.\n",
      "Re-initializing optimizer.\n",
      "  epoch    train_loss    valid_loss    cp     dur\n",
      "-------  ------------  ------------  ----  ------\n",
      "      1     \u001b[36m7260.7432\u001b[0m     \u001b[32m1771.3593\u001b[0m     +  0.5025\n",
      "      2    11264.4827     \u001b[32m1351.0645\u001b[0m     +  0.4702\n",
      "      3     \u001b[36m5782.5313\u001b[0m      \u001b[32m960.2294\u001b[0m     +  0.4713\n",
      "      4     \u001b[36m5257.4364\u001b[0m      964.3528        0.4556\n",
      "      5     5525.8529     1180.4815        0.4365\n",
      "      6     6568.6422      962.2686        0.4640\n",
      "      7     \u001b[36m5099.5429\u001b[0m      995.3724        0.5074\n",
      "Stopping since valid_loss has not improved in the last 5 epochs.\n"
     ]
    },
    {
     "data": {
      "text/plain": [
       "<class 'skorch.regressor.NeuralNetRegressor'>[initialized](\n",
       "  module_=MLP(\n",
       "    (blocks): Sequential(\n",
       "      (0): Block(\n",
       "        (linear): Linear(in_features=22, out_features=100, bias=True)\n",
       "        (activation): ReLU()\n",
       "        (dropout): Dropout(p=0.1, inplace=False)\n",
       "      )\n",
       "      (1): Block(\n",
       "        (linear): Linear(in_features=100, out_features=100, bias=True)\n",
       "        (activation): ReLU()\n",
       "        (dropout): Dropout(p=0.1, inplace=False)\n",
       "      )\n",
       "    )\n",
       "    (head): Linear(in_features=100, out_features=1, bias=True)\n",
       "  ),\n",
       ")"
      ]
     },
     "execution_count": 316,
     "metadata": {},
     "output_type": "execute_result"
    }
   ],
   "source": [
    "mlp_2layer_model.fit(train_features_trans, train_labels, epochs=50)"
   ]
  },
  {
   "cell_type": "code",
   "execution_count": 233,
   "id": "49042e22-bad8-432b-8a48-3b1fcb1911d8",
   "metadata": {},
   "outputs": [],
   "source": [
    "def regression_results(y_true, y_pred):\n",
    "    \n",
    "    results = {}\n",
    "    results['explained_variance'] = metrics.explained_variance_score(y_true, y_pred)\n",
    "    results['mae'] = metrics.mean_absolute_error(y_true, y_pred) \n",
    "    results['mse'] = metrics.mean_squared_error(y_true, y_pred) \n",
    "    results['msle'] = metrics.mean_squared_log_error(y_true, y_pred)\n",
    "    results['median_ae'] = metrics.median_absolute_error(y_true, y_pred)\n",
    "    results['r2'] = metrics.r2_score(y_true, y_pred)\n",
    "    results['rmse'] = np.sqrt(results['mse'])\n",
    "    return pd.Series(results)"
   ]
  },
  {
   "cell_type": "code",
   "execution_count": 213,
   "id": "bbdc97fc-538f-4635-b274-76a86f52d1d4",
   "metadata": {},
   "outputs": [],
   "source": []
  },
  {
   "cell_type": "code",
   "execution_count": 319,
   "id": "43f2595d-0e33-44ef-9038-10a1f0170aae",
   "metadata": {},
   "outputs": [
    {
     "data": {
      "text/plain": [
       "\u001b[0;31mSignature:\u001b[0m\n",
       "\u001b[0mcross_val_score\u001b[0m\u001b[0;34m(\u001b[0m\u001b[0;34m\u001b[0m\n",
       "\u001b[0;34m\u001b[0m    \u001b[0mestimator\u001b[0m\u001b[0;34m,\u001b[0m\u001b[0;34m\u001b[0m\n",
       "\u001b[0;34m\u001b[0m    \u001b[0mX\u001b[0m\u001b[0;34m,\u001b[0m\u001b[0;34m\u001b[0m\n",
       "\u001b[0;34m\u001b[0m    \u001b[0my\u001b[0m\u001b[0;34m=\u001b[0m\u001b[0;32mNone\u001b[0m\u001b[0;34m,\u001b[0m\u001b[0;34m\u001b[0m\n",
       "\u001b[0;34m\u001b[0m    \u001b[0;34m*\u001b[0m\u001b[0;34m,\u001b[0m\u001b[0;34m\u001b[0m\n",
       "\u001b[0;34m\u001b[0m    \u001b[0mgroups\u001b[0m\u001b[0;34m=\u001b[0m\u001b[0;32mNone\u001b[0m\u001b[0;34m,\u001b[0m\u001b[0;34m\u001b[0m\n",
       "\u001b[0;34m\u001b[0m    \u001b[0mscoring\u001b[0m\u001b[0;34m=\u001b[0m\u001b[0;32mNone\u001b[0m\u001b[0;34m,\u001b[0m\u001b[0;34m\u001b[0m\n",
       "\u001b[0;34m\u001b[0m    \u001b[0mcv\u001b[0m\u001b[0;34m=\u001b[0m\u001b[0;32mNone\u001b[0m\u001b[0;34m,\u001b[0m\u001b[0;34m\u001b[0m\n",
       "\u001b[0;34m\u001b[0m    \u001b[0mn_jobs\u001b[0m\u001b[0;34m=\u001b[0m\u001b[0;32mNone\u001b[0m\u001b[0;34m,\u001b[0m\u001b[0;34m\u001b[0m\n",
       "\u001b[0;34m\u001b[0m    \u001b[0mverbose\u001b[0m\u001b[0;34m=\u001b[0m\u001b[0;36m0\u001b[0m\u001b[0;34m,\u001b[0m\u001b[0;34m\u001b[0m\n",
       "\u001b[0;34m\u001b[0m    \u001b[0mfit_params\u001b[0m\u001b[0;34m=\u001b[0m\u001b[0;32mNone\u001b[0m\u001b[0;34m,\u001b[0m\u001b[0;34m\u001b[0m\n",
       "\u001b[0;34m\u001b[0m    \u001b[0mpre_dispatch\u001b[0m\u001b[0;34m=\u001b[0m\u001b[0;34m'2*n_jobs'\u001b[0m\u001b[0;34m,\u001b[0m\u001b[0;34m\u001b[0m\n",
       "\u001b[0;34m\u001b[0m    \u001b[0merror_score\u001b[0m\u001b[0;34m=\u001b[0m\u001b[0mnan\u001b[0m\u001b[0;34m,\u001b[0m\u001b[0;34m\u001b[0m\n",
       "\u001b[0;34m\u001b[0m\u001b[0;34m)\u001b[0m\u001b[0;34m\u001b[0m\u001b[0;34m\u001b[0m\u001b[0m\n",
       "\u001b[0;31mDocstring:\u001b[0m\n",
       "Evaluate a score by cross-validation\n",
       "\n",
       "Read more in the :ref:`User Guide <cross_validation>`.\n",
       "\n",
       "Parameters\n",
       "----------\n",
       "estimator : estimator object implementing 'fit'\n",
       "    The object to use to fit the data.\n",
       "\n",
       "X : array-like of shape (n_samples, n_features)\n",
       "    The data to fit. Can be for example a list, or an array.\n",
       "\n",
       "y : array-like of shape (n_samples,) or (n_samples, n_outputs),             default=None\n",
       "    The target variable to try to predict in the case of\n",
       "    supervised learning.\n",
       "\n",
       "groups : array-like of shape (n_samples,), default=None\n",
       "    Group labels for the samples used while splitting the dataset into\n",
       "    train/test set. Only used in conjunction with a \"Group\" :term:`cv`\n",
       "    instance (e.g., :class:`GroupKFold`).\n",
       "\n",
       "scoring : str or callable, default=None\n",
       "    A str (see model evaluation documentation) or\n",
       "    a scorer callable object / function with signature\n",
       "    ``scorer(estimator, X, y)`` which should return only\n",
       "    a single value.\n",
       "\n",
       "    Similar to :func:`cross_validate`\n",
       "    but only a single metric is permitted.\n",
       "\n",
       "    If None, the estimator's default scorer (if available) is used.\n",
       "\n",
       "cv : int, cross-validation generator or an iterable, default=None\n",
       "    Determines the cross-validation splitting strategy.\n",
       "    Possible inputs for cv are:\n",
       "\n",
       "    - None, to use the default 5-fold cross validation,\n",
       "    - int, to specify the number of folds in a `(Stratified)KFold`,\n",
       "    - :term:`CV splitter`,\n",
       "    - An iterable yielding (train, test) splits as arrays of indices.\n",
       "\n",
       "    For int/None inputs, if the estimator is a classifier and ``y`` is\n",
       "    either binary or multiclass, :class:`StratifiedKFold` is used. In all\n",
       "    other cases, :class:`KFold` is used.\n",
       "\n",
       "    Refer :ref:`User Guide <cross_validation>` for the various\n",
       "    cross-validation strategies that can be used here.\n",
       "\n",
       "    .. versionchanged:: 0.22\n",
       "        ``cv`` default value if None changed from 3-fold to 5-fold.\n",
       "\n",
       "n_jobs : int, default=None\n",
       "    Number of jobs to run in parallel. Training the estimator and computing\n",
       "    the score are parallelized over the cross-validation splits.\n",
       "    ``None`` means 1 unless in a :obj:`joblib.parallel_backend` context.\n",
       "    ``-1`` means using all processors. See :term:`Glossary <n_jobs>`\n",
       "    for more details.\n",
       "\n",
       "verbose : int, default=0\n",
       "    The verbosity level.\n",
       "\n",
       "fit_params : dict, default=None\n",
       "    Parameters to pass to the fit method of the estimator.\n",
       "\n",
       "pre_dispatch : int or str, default='2*n_jobs'\n",
       "    Controls the number of jobs that get dispatched during parallel\n",
       "    execution. Reducing this number can be useful to avoid an\n",
       "    explosion of memory consumption when more jobs get dispatched\n",
       "    than CPUs can process. This parameter can be:\n",
       "\n",
       "        - None, in which case all the jobs are immediately\n",
       "          created and spawned. Use this for lightweight and\n",
       "          fast-running jobs, to avoid delays due to on-demand\n",
       "          spawning of the jobs\n",
       "\n",
       "        - An int, giving the exact number of total jobs that are\n",
       "          spawned\n",
       "\n",
       "        - A str, giving an expression as a function of n_jobs,\n",
       "          as in '2*n_jobs'\n",
       "\n",
       "error_score : 'raise' or numeric, default=np.nan\n",
       "    Value to assign to the score if an error occurs in estimator fitting.\n",
       "    If set to 'raise', the error is raised.\n",
       "    If a numeric value is given, FitFailedWarning is raised.\n",
       "\n",
       "    .. versionadded:: 0.20\n",
       "\n",
       "Returns\n",
       "-------\n",
       "scores : ndarray of float of shape=(len(list(cv)),)\n",
       "    Array of scores of the estimator for each run of the cross validation.\n",
       "\n",
       "Examples\n",
       "--------\n",
       ">>> from sklearn import datasets, linear_model\n",
       ">>> from sklearn.model_selection import cross_val_score\n",
       ">>> diabetes = datasets.load_diabetes()\n",
       ">>> X = diabetes.data[:150]\n",
       ">>> y = diabetes.target[:150]\n",
       ">>> lasso = linear_model.Lasso()\n",
       ">>> print(cross_val_score(lasso, X, y, cv=3))\n",
       "[0.33150734 0.08022311 0.03531764]\n",
       "\n",
       "See Also\n",
       "---------\n",
       "cross_validate : To run cross-validation on multiple metrics and also to\n",
       "    return train scores, fit times and score times.\n",
       "\n",
       "cross_val_predict : Get predictions from each split of cross-validation for\n",
       "    diagnostic purposes.\n",
       "\n",
       "sklearn.metrics.make_scorer : Make a scorer from a performance metric or\n",
       "    loss function.\n",
       "\u001b[0;31mFile:\u001b[0m      ~/anaconda3/lib/python3.8/site-packages/sklearn/model_selection/_validation.py\n",
       "\u001b[0;31mType:\u001b[0m      function\n"
      ]
     },
     "metadata": {},
     "output_type": "display_data"
    }
   ],
   "source": [
    "cross_val_score(\n",
    "    mlp_2layer_model,\n",
    "    \n",
    ")"
   ]
  },
  {
   "cell_type": "code",
   "execution_count": null,
   "id": "729e22a4-f63e-42f2-bc54-fbb53328f4c4",
   "metadata": {},
   "outputs": [],
   "source": []
  },
  {
   "cell_type": "code",
   "execution_count": null,
   "id": "ad1584cb-3bec-4b7c-b8d0-e7e00dad9d13",
   "metadata": {},
   "outputs": [],
   "source": []
  },
  {
   "cell_type": "code",
   "execution_count": null,
   "id": "e816cfd5-a207-498f-be75-f6d7aa98cccc",
   "metadata": {},
   "outputs": [],
   "source": []
  },
  {
   "cell_type": "code",
   "execution_count": null,
   "id": "dc6fc198-d57a-4a6f-8a89-bdded1bc05eb",
   "metadata": {},
   "outputs": [],
   "source": []
  },
  {
   "cell_type": "code",
   "execution_count": null,
   "id": "a0af0770-335c-4cb0-94f0-7ad023023f31",
   "metadata": {},
   "outputs": [],
   "source": []
  }
 ],
 "metadata": {
  "kernelspec": {
   "display_name": "Python 3",
   "language": "python",
   "name": "python3"
  },
  "language_info": {
   "codemirror_mode": {
    "name": "ipython",
    "version": 3
   },
   "file_extension": ".py",
   "mimetype": "text/x-python",
   "name": "python",
   "nbconvert_exporter": "python",
   "pygments_lexer": "ipython3",
   "version": "3.8.8"
  }
 },
 "nbformat": 4,
 "nbformat_minor": 5
}
